{
  "nbformat": 4,
  "nbformat_minor": 0,
  "metadata": {
    "colab": {
      "name": "Pokemon_data_wrangling.ipynb",
      "provenance": [],
      "authorship_tag": "ABX9TyOp5/T5NJ4o9m+TDYqMl6zi",
      "include_colab_link": true
    },
    "kernelspec": {
      "name": "python3",
      "display_name": "Python 3"
    },
    "language_info": {
      "name": "python"
    }
  },
  "cells": [
    {
      "cell_type": "markdown",
      "metadata": {
        "id": "view-in-github",
        "colab_type": "text"
      },
      "source": [
        "<a href=\"https://colab.research.google.com/github/TheAdmrial/CompetitivePokemon/blob/main/Pokemon_data_wrangling.ipynb\" target=\"_parent\"><img src=\"https://colab.research.google.com/assets/colab-badge.svg\" alt=\"Open In Colab\"/></a>"
      ]
    },
    {
      "cell_type": "code",
      "execution_count": 1,
      "metadata": {
        "id": "IllHpBkPKo9f"
      },
      "outputs": [],
      "source": [
        "# loading in libraries\n",
        "import pandas as pd\n",
        "import altair as alt"
      ]
    },
    {
      "cell_type": "code",
      "source": [
        "# loading in the data"
      ],
      "metadata": {
        "id": "JFcreCJFLEUU"
      },
      "execution_count": null,
      "outputs": []
    }
  ]
}